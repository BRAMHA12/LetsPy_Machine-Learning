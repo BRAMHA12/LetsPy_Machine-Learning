{
 "cells": [
  {
   "cell_type": "code",
   "execution_count": 1,
   "metadata": {
    "collapsed": true
   },
   "outputs": [],
   "source": [
    "#### Introduction to Data Wrangling with Pandas ####\n",
    "## Page 6 ##"
   ]
  },
  {
   "cell_type": "code",
   "execution_count": 2,
   "metadata": {
    "collapsed": true
   },
   "outputs": [],
   "source": [
    "#### Recap - Exercise our learning ####"
   ]
  },
  {
   "cell_type": "code",
   "execution_count": 3,
   "metadata": {
    "collapsed": true
   },
   "outputs": [],
   "source": [
    "import pandas as pd\n",
    "import numpy as np\n",
    "import matplotlib.pyplot as plt\n",
    "%matplotlib inline \n",
    "#so that we can view the graphs inside the notebook"
   ]
  },
  {
   "cell_type": "code",
   "execution_count": 4,
   "metadata": {
    "collapsed": true
   },
   "outputs": [],
   "source": [
    "df = pd.read_csv('~/diamonds-data/diamonds.csv', index_col='Unnamed: 0')"
   ]
  },
  {
   "cell_type": "code",
   "execution_count": 5,
   "metadata": {
    "collapsed": false
   },
   "outputs": [
    {
     "data": {
      "text/plain": [
       "598024"
      ]
     },
     "execution_count": 5,
     "metadata": {},
     "output_type": "execute_result"
    }
   ],
   "source": [
    "len(df)"
   ]
  },
  {
   "cell_type": "code",
   "execution_count": 6,
   "metadata": {
    "collapsed": false
   },
   "outputs": [
    {
     "data": {
      "text/plain": [
       "Index([u'carat', u'cut', u'color', u'clarity', u'table', u'depth', u'cert',\n",
       "       u'measurements', u'price', u'x', u'y', u'z'],\n",
       "      dtype='object')"
      ]
     },
     "execution_count": 6,
     "metadata": {},
     "output_type": "execute_result"
    }
   ],
   "source": [
    "df.columns"
   ]
  },
  {
   "cell_type": "code",
   "execution_count": 7,
   "metadata": {
    "collapsed": false
   },
   "outputs": [
    {
     "data": {
      "text/html": [
       "<div>\n",
       "<table border=\"1\" class=\"dataframe\">\n",
       "  <thead>\n",
       "    <tr style=\"text-align: right;\">\n",
       "      <th></th>\n",
       "      <th>carat</th>\n",
       "      <th>cut</th>\n",
       "      <th>color</th>\n",
       "      <th>clarity</th>\n",
       "      <th>table</th>\n",
       "      <th>depth</th>\n",
       "      <th>cert</th>\n",
       "      <th>measurements</th>\n",
       "      <th>price</th>\n",
       "      <th>x</th>\n",
       "      <th>y</th>\n",
       "      <th>z</th>\n",
       "    </tr>\n",
       "  </thead>\n",
       "  <tbody>\n",
       "    <tr>\n",
       "      <th>1</th>\n",
       "      <td>0.25</td>\n",
       "      <td>V.Good</td>\n",
       "      <td>K</td>\n",
       "      <td>I1</td>\n",
       "      <td>59.0</td>\n",
       "      <td>63.7</td>\n",
       "      <td>GIA</td>\n",
       "      <td>3.96 x 3.95 x 2.52</td>\n",
       "      <td>NaN</td>\n",
       "      <td>3.96</td>\n",
       "      <td>3.95</td>\n",
       "      <td>2.52</td>\n",
       "    </tr>\n",
       "    <tr>\n",
       "      <th>2</th>\n",
       "      <td>0.23</td>\n",
       "      <td>Good</td>\n",
       "      <td>G</td>\n",
       "      <td>I1</td>\n",
       "      <td>61.0</td>\n",
       "      <td>58.1</td>\n",
       "      <td>GIA</td>\n",
       "      <td>4.00 x 4.05 x 2.30</td>\n",
       "      <td>NaN</td>\n",
       "      <td>4.00</td>\n",
       "      <td>4.05</td>\n",
       "      <td>2.30</td>\n",
       "    </tr>\n",
       "    <tr>\n",
       "      <th>3</th>\n",
       "      <td>0.34</td>\n",
       "      <td>Good</td>\n",
       "      <td>J</td>\n",
       "      <td>I2</td>\n",
       "      <td>58.0</td>\n",
       "      <td>58.7</td>\n",
       "      <td>GIA</td>\n",
       "      <td>4.56 x 4.53 x 2.67</td>\n",
       "      <td>NaN</td>\n",
       "      <td>4.56</td>\n",
       "      <td>4.53</td>\n",
       "      <td>2.67</td>\n",
       "    </tr>\n",
       "    <tr>\n",
       "      <th>4</th>\n",
       "      <td>0.21</td>\n",
       "      <td>V.Good</td>\n",
       "      <td>D</td>\n",
       "      <td>I1</td>\n",
       "      <td>60.0</td>\n",
       "      <td>60.6</td>\n",
       "      <td>GIA</td>\n",
       "      <td>3.80 x 3.82 x 2.31</td>\n",
       "      <td>NaN</td>\n",
       "      <td>3.80</td>\n",
       "      <td>3.82</td>\n",
       "      <td>2.31</td>\n",
       "    </tr>\n",
       "    <tr>\n",
       "      <th>5</th>\n",
       "      <td>0.31</td>\n",
       "      <td>V.Good</td>\n",
       "      <td>K</td>\n",
       "      <td>I1</td>\n",
       "      <td>59.0</td>\n",
       "      <td>62.2</td>\n",
       "      <td>EGL</td>\n",
       "      <td>4.35 x 4.26 x 2.68</td>\n",
       "      <td>NaN</td>\n",
       "      <td>4.35</td>\n",
       "      <td>4.26</td>\n",
       "      <td>2.68</td>\n",
       "    </tr>\n",
       "  </tbody>\n",
       "</table>\n",
       "</div>"
      ],
      "text/plain": [
       "   carat     cut color clarity  table  depth cert        measurements  price  \\\n",
       "1   0.25  V.Good     K      I1   59.0   63.7  GIA  3.96 x 3.95 x 2.52    NaN   \n",
       "2   0.23    Good     G      I1   61.0   58.1  GIA  4.00 x 4.05 x 2.30    NaN   \n",
       "3   0.34    Good     J      I2   58.0   58.7  GIA  4.56 x 4.53 x 2.67    NaN   \n",
       "4   0.21  V.Good     D      I1   60.0   60.6  GIA  3.80 x 3.82 x 2.31    NaN   \n",
       "5   0.31  V.Good     K      I1   59.0   62.2  EGL  4.35 x 4.26 x 2.68    NaN   \n",
       "\n",
       "      x     y     z  \n",
       "1  3.96  3.95  2.52  \n",
       "2  4.00  4.05  2.30  \n",
       "3  4.56  4.53  2.67  \n",
       "4  3.80  3.82  2.31  \n",
       "5  4.35  4.26  2.68  "
      ]
     },
     "execution_count": 7,
     "metadata": {},
     "output_type": "execute_result"
    }
   ],
   "source": [
    "df.head() # filter operation"
   ]
  },
  {
   "cell_type": "code",
   "execution_count": 8,
   "metadata": {
    "collapsed": false
   },
   "outputs": [
    {
     "data": {
      "text/html": [
       "<div>\n",
       "<table border=\"1\" class=\"dataframe\">\n",
       "  <thead>\n",
       "    <tr style=\"text-align: right;\">\n",
       "      <th></th>\n",
       "      <th>carat</th>\n",
       "      <th>cut</th>\n",
       "      <th>color</th>\n",
       "      <th>clarity</th>\n",
       "      <th>table</th>\n",
       "      <th>depth</th>\n",
       "      <th>cert</th>\n",
       "      <th>measurements</th>\n",
       "      <th>price</th>\n",
       "      <th>x</th>\n",
       "      <th>y</th>\n",
       "      <th>z</th>\n",
       "    </tr>\n",
       "  </thead>\n",
       "  <tbody>\n",
       "    <tr>\n",
       "      <th>598020</th>\n",
       "      <td>3.02</td>\n",
       "      <td>Ideal</td>\n",
       "      <td>E</td>\n",
       "      <td>VVS2</td>\n",
       "      <td>58.0</td>\n",
       "      <td>59.8</td>\n",
       "      <td>HRD</td>\n",
       "      <td>9.43 x 9.51 x 5.66</td>\n",
       "      <td>99930.0</td>\n",
       "      <td>9.43</td>\n",
       "      <td>9.51</td>\n",
       "      <td>5.66</td>\n",
       "    </tr>\n",
       "    <tr>\n",
       "      <th>598021</th>\n",
       "      <td>5.01</td>\n",
       "      <td>V.Good</td>\n",
       "      <td>I</td>\n",
       "      <td>VVS2</td>\n",
       "      <td>63.5</td>\n",
       "      <td>61.5</td>\n",
       "      <td>IGI</td>\n",
       "      <td>10.78  x  10.89  x  6.68</td>\n",
       "      <td>99942.0</td>\n",
       "      <td>10.78</td>\n",
       "      <td>10.89</td>\n",
       "      <td>6.68</td>\n",
       "    </tr>\n",
       "    <tr>\n",
       "      <th>598022</th>\n",
       "      <td>3.43</td>\n",
       "      <td>Ideal</td>\n",
       "      <td>F</td>\n",
       "      <td>VS2</td>\n",
       "      <td>54.0</td>\n",
       "      <td>62.7</td>\n",
       "      <td>GIA</td>\n",
       "      <td>9.66 x 9.61 x 6.05</td>\n",
       "      <td>99960.0</td>\n",
       "      <td>9.66</td>\n",
       "      <td>9.61</td>\n",
       "      <td>6.05</td>\n",
       "    </tr>\n",
       "    <tr>\n",
       "      <th>598023</th>\n",
       "      <td>3.01</td>\n",
       "      <td>V.Good</td>\n",
       "      <td>E</td>\n",
       "      <td>VS1</td>\n",
       "      <td>58.0</td>\n",
       "      <td>62.9</td>\n",
       "      <td>GIA</td>\n",
       "      <td>9.15 x 9.19 x 5.77</td>\n",
       "      <td>99966.0</td>\n",
       "      <td>9.15</td>\n",
       "      <td>9.19</td>\n",
       "      <td>5.77</td>\n",
       "    </tr>\n",
       "    <tr>\n",
       "      <th>598024</th>\n",
       "      <td>4.13</td>\n",
       "      <td>Ideal</td>\n",
       "      <td>H</td>\n",
       "      <td>IF</td>\n",
       "      <td>56.0</td>\n",
       "      <td>62.5</td>\n",
       "      <td>IGI</td>\n",
       "      <td>10.27 x 10.19 x 6.4</td>\n",
       "      <td>99990.0</td>\n",
       "      <td>10.27</td>\n",
       "      <td>10.19</td>\n",
       "      <td>6.40</td>\n",
       "    </tr>\n",
       "  </tbody>\n",
       "</table>\n",
       "</div>"
      ],
      "text/plain": [
       "        carat     cut color clarity  table  depth cert  \\\n",
       "598020   3.02   Ideal     E    VVS2   58.0   59.8  HRD   \n",
       "598021   5.01  V.Good     I    VVS2   63.5   61.5  IGI   \n",
       "598022   3.43   Ideal     F     VS2   54.0   62.7  GIA   \n",
       "598023   3.01  V.Good     E     VS1   58.0   62.9  GIA   \n",
       "598024   4.13   Ideal     H      IF   56.0   62.5  IGI   \n",
       "\n",
       "                    measurements    price      x      y     z  \n",
       "598020        9.43 x 9.51 x 5.66  99930.0   9.43   9.51  5.66  \n",
       "598021  10.78  x  10.89  x  6.68  99942.0  10.78  10.89  6.68  \n",
       "598022        9.66 x 9.61 x 6.05  99960.0   9.66   9.61  6.05  \n",
       "598023        9.15 x 9.19 x 5.77  99966.0   9.15   9.19  5.77  \n",
       "598024       10.27 x 10.19 x 6.4  99990.0  10.27  10.19  6.40  "
      ]
     },
     "execution_count": 8,
     "metadata": {},
     "output_type": "execute_result"
    }
   ],
   "source": [
    "df.tail() #filter operation"
   ]
  },
  {
   "cell_type": "code",
   "execution_count": 9,
   "metadata": {
    "collapsed": true
   },
   "outputs": [],
   "source": [
    "len_old = len(df)"
   ]
  },
  {
   "cell_type": "code",
   "execution_count": 10,
   "metadata": {
    "collapsed": true
   },
   "outputs": [],
   "source": [
    "df = df.dropna(how='any') # another form of filter operation"
   ]
  },
  {
   "cell_type": "code",
   "execution_count": 11,
   "metadata": {
    "collapsed": false
   },
   "outputs": [
    {
     "data": {
      "text/plain": [
       "4240"
      ]
     },
     "execution_count": 11,
     "metadata": {},
     "output_type": "execute_result"
    }
   ],
   "source": [
    "\"\"\"\n",
    "No. of rows with atleast one NA value\n",
    "\"\"\"\n",
    "len_old - len(df)"
   ]
  },
  {
   "cell_type": "code",
   "execution_count": 12,
   "metadata": {
    "collapsed": false
   },
   "outputs": [
    {
     "data": {
      "text/html": [
       "<div>\n",
       "<table border=\"1\" class=\"dataframe\">\n",
       "  <thead>\n",
       "    <tr style=\"text-align: right;\">\n",
       "      <th></th>\n",
       "      <th>carat</th>\n",
       "      <th>table</th>\n",
       "      <th>depth</th>\n",
       "      <th>price</th>\n",
       "      <th>x</th>\n",
       "      <th>y</th>\n",
       "      <th>z</th>\n",
       "    </tr>\n",
       "  </thead>\n",
       "  <tbody>\n",
       "    <tr>\n",
       "      <th>count</th>\n",
       "      <td>593784.000000</td>\n",
       "      <td>593784.000000</td>\n",
       "      <td>593784.000000</td>\n",
       "      <td>593784.000000</td>\n",
       "      <td>593784.000000</td>\n",
       "      <td>593784.000000</td>\n",
       "      <td>593784.000000</td>\n",
       "    </tr>\n",
       "    <tr>\n",
       "      <th>mean</th>\n",
       "      <td>1.072593</td>\n",
       "      <td>57.658755</td>\n",
       "      <td>61.091980</td>\n",
       "      <td>8755.808723</td>\n",
       "      <td>5.991952</td>\n",
       "      <td>6.200535</td>\n",
       "      <td>4.036075</td>\n",
       "    </tr>\n",
       "    <tr>\n",
       "      <th>std</th>\n",
       "      <td>0.813113</td>\n",
       "      <td>4.827985</td>\n",
       "      <td>7.487465</td>\n",
       "      <td>13022.108651</td>\n",
       "      <td>1.530444</td>\n",
       "      <td>1.485081</td>\n",
       "      <td>1.240932</td>\n",
       "    </tr>\n",
       "    <tr>\n",
       "      <th>min</th>\n",
       "      <td>0.200000</td>\n",
       "      <td>0.000000</td>\n",
       "      <td>0.000000</td>\n",
       "      <td>300.000000</td>\n",
       "      <td>0.150000</td>\n",
       "      <td>1.000000</td>\n",
       "      <td>0.040000</td>\n",
       "    </tr>\n",
       "    <tr>\n",
       "      <th>25%</th>\n",
       "      <td>0.500000</td>\n",
       "      <td>56.000000</td>\n",
       "      <td>61.000000</td>\n",
       "      <td>1218.000000</td>\n",
       "      <td>4.740000</td>\n",
       "      <td>4.970000</td>\n",
       "      <td>3.120000</td>\n",
       "    </tr>\n",
       "    <tr>\n",
       "      <th>50%</th>\n",
       "      <td>0.900000</td>\n",
       "      <td>58.000000</td>\n",
       "      <td>62.000000</td>\n",
       "      <td>3503.000000</td>\n",
       "      <td>5.780000</td>\n",
       "      <td>6.050000</td>\n",
       "      <td>3.860000</td>\n",
       "    </tr>\n",
       "    <tr>\n",
       "      <th>75%</th>\n",
       "      <td>1.500000</td>\n",
       "      <td>59.000000</td>\n",
       "      <td>62.700000</td>\n",
       "      <td>11186.000000</td>\n",
       "      <td>6.970000</td>\n",
       "      <td>7.230000</td>\n",
       "      <td>4.610000</td>\n",
       "    </tr>\n",
       "    <tr>\n",
       "      <th>max</th>\n",
       "      <td>9.250000</td>\n",
       "      <td>75.900000</td>\n",
       "      <td>81.300000</td>\n",
       "      <td>99990.000000</td>\n",
       "      <td>13.890000</td>\n",
       "      <td>13.890000</td>\n",
       "      <td>13.180000</td>\n",
       "    </tr>\n",
       "  </tbody>\n",
       "</table>\n",
       "</div>"
      ],
      "text/plain": [
       "               carat          table          depth          price  \\\n",
       "count  593784.000000  593784.000000  593784.000000  593784.000000   \n",
       "mean        1.072593      57.658755      61.091980    8755.808723   \n",
       "std         0.813113       4.827985       7.487465   13022.108651   \n",
       "min         0.200000       0.000000       0.000000     300.000000   \n",
       "25%         0.500000      56.000000      61.000000    1218.000000   \n",
       "50%         0.900000      58.000000      62.000000    3503.000000   \n",
       "75%         1.500000      59.000000      62.700000   11186.000000   \n",
       "max         9.250000      75.900000      81.300000   99990.000000   \n",
       "\n",
       "                   x              y              z  \n",
       "count  593784.000000  593784.000000  593784.000000  \n",
       "mean        5.991952       6.200535       4.036075  \n",
       "std         1.530444       1.485081       1.240932  \n",
       "min         0.150000       1.000000       0.040000  \n",
       "25%         4.740000       4.970000       3.120000  \n",
       "50%         5.780000       6.050000       3.860000  \n",
       "75%         6.970000       7.230000       4.610000  \n",
       "max        13.890000      13.890000      13.180000  "
      ]
     },
     "execution_count": 12,
     "metadata": {},
     "output_type": "execute_result"
    }
   ],
   "source": [
    "df.describe()"
   ]
  },
  {
   "cell_type": "code",
   "execution_count": 13,
   "metadata": {
    "collapsed": true
   },
   "outputs": [],
   "source": [
    "non_numeric = ['clarity', 'cut', 'color', 'cert'] #catgorical values-ordered"
   ]
  },
  {
   "cell_type": "code",
   "execution_count": 14,
   "metadata": {
    "collapsed": false
   },
   "outputs": [
    {
     "name": "stdout",
     "output_type": "stream",
     "text": [
      "('clarity', array(['SI1', 'SI2', 'VS2', 'I1', 'VVS2', 'VS1', 'VVS1', 'I2', 'IF'], dtype=object))\n",
      "('cut', array(['V.Good', 'Good', 'Ideal'], dtype=object))\n",
      "('color', array(['G', 'K', 'J', 'H', 'F', 'I', 'D', 'E', 'L'], dtype=object))\n",
      "('cert', array(['GIA', 'IGI', 'EGL USA', 'EGL', 'EGL Intl.', 'AGS', 'OTHER', 'HRD',\n",
      "       'EGL ISRAEL'], dtype=object))\n"
     ]
    }
   ],
   "source": [
    "for name in non_numeric:\n",
    "    print(name, df[name].unique())"
   ]
  },
  {
   "cell_type": "code",
   "execution_count": 17,
   "metadata": {
    "collapsed": false
   },
   "outputs": [
    {
     "data": {
      "text/html": [
       "<div>\n",
       "<table border=\"1\" class=\"dataframe\">\n",
       "  <thead>\n",
       "    <tr style=\"text-align: right;\">\n",
       "      <th></th>\n",
       "      <th>carat</th>\n",
       "      <th>cut</th>\n",
       "      <th>clarity</th>\n",
       "      <th>table</th>\n",
       "      <th>depth</th>\n",
       "      <th>cert</th>\n",
       "      <th>measurements</th>\n",
       "      <th>price</th>\n",
       "      <th>x</th>\n",
       "      <th>y</th>\n",
       "      <th>z</th>\n",
       "    </tr>\n",
       "    <tr>\n",
       "      <th>color</th>\n",
       "      <th></th>\n",
       "      <th></th>\n",
       "      <th></th>\n",
       "      <th></th>\n",
       "      <th></th>\n",
       "      <th></th>\n",
       "      <th></th>\n",
       "      <th></th>\n",
       "      <th></th>\n",
       "      <th></th>\n",
       "      <th></th>\n",
       "    </tr>\n",
       "  </thead>\n",
       "  <tbody>\n",
       "    <tr>\n",
       "      <th>D</th>\n",
       "      <td>73201</td>\n",
       "      <td>73201</td>\n",
       "      <td>73201</td>\n",
       "      <td>73201</td>\n",
       "      <td>73201</td>\n",
       "      <td>73201</td>\n",
       "      <td>73201</td>\n",
       "      <td>73201</td>\n",
       "      <td>73201</td>\n",
       "      <td>73201</td>\n",
       "      <td>73201</td>\n",
       "    </tr>\n",
       "    <tr>\n",
       "      <th>E</th>\n",
       "      <td>92859</td>\n",
       "      <td>92859</td>\n",
       "      <td>92859</td>\n",
       "      <td>92859</td>\n",
       "      <td>92859</td>\n",
       "      <td>92859</td>\n",
       "      <td>92859</td>\n",
       "      <td>92859</td>\n",
       "      <td>92859</td>\n",
       "      <td>92859</td>\n",
       "      <td>92859</td>\n",
       "    </tr>\n",
       "    <tr>\n",
       "      <th>F</th>\n",
       "      <td>92772</td>\n",
       "      <td>92772</td>\n",
       "      <td>92772</td>\n",
       "      <td>92772</td>\n",
       "      <td>92772</td>\n",
       "      <td>92772</td>\n",
       "      <td>92772</td>\n",
       "      <td>92772</td>\n",
       "      <td>92772</td>\n",
       "      <td>92772</td>\n",
       "      <td>92772</td>\n",
       "    </tr>\n",
       "    <tr>\n",
       "      <th>G</th>\n",
       "      <td>95363</td>\n",
       "      <td>95363</td>\n",
       "      <td>95363</td>\n",
       "      <td>95363</td>\n",
       "      <td>95363</td>\n",
       "      <td>95363</td>\n",
       "      <td>95363</td>\n",
       "      <td>95363</td>\n",
       "      <td>95363</td>\n",
       "      <td>95363</td>\n",
       "      <td>95363</td>\n",
       "    </tr>\n",
       "    <tr>\n",
       "      <th>H</th>\n",
       "      <td>85951</td>\n",
       "      <td>85951</td>\n",
       "      <td>85951</td>\n",
       "      <td>85951</td>\n",
       "      <td>85951</td>\n",
       "      <td>85951</td>\n",
       "      <td>85951</td>\n",
       "      <td>85951</td>\n",
       "      <td>85951</td>\n",
       "      <td>85951</td>\n",
       "      <td>85951</td>\n",
       "    </tr>\n",
       "    <tr>\n",
       "      <th>I</th>\n",
       "      <td>69879</td>\n",
       "      <td>69879</td>\n",
       "      <td>69879</td>\n",
       "      <td>69879</td>\n",
       "      <td>69879</td>\n",
       "      <td>69879</td>\n",
       "      <td>69879</td>\n",
       "      <td>69879</td>\n",
       "      <td>69879</td>\n",
       "      <td>69879</td>\n",
       "      <td>69879</td>\n",
       "    </tr>\n",
       "    <tr>\n",
       "      <th>J</th>\n",
       "      <td>48478</td>\n",
       "      <td>48478</td>\n",
       "      <td>48478</td>\n",
       "      <td>48478</td>\n",
       "      <td>48478</td>\n",
       "      <td>48478</td>\n",
       "      <td>48478</td>\n",
       "      <td>48478</td>\n",
       "      <td>48478</td>\n",
       "      <td>48478</td>\n",
       "      <td>48478</td>\n",
       "    </tr>\n",
       "    <tr>\n",
       "      <th>K</th>\n",
       "      <td>25660</td>\n",
       "      <td>25660</td>\n",
       "      <td>25660</td>\n",
       "      <td>25660</td>\n",
       "      <td>25660</td>\n",
       "      <td>25660</td>\n",
       "      <td>25660</td>\n",
       "      <td>25660</td>\n",
       "      <td>25660</td>\n",
       "      <td>25660</td>\n",
       "      <td>25660</td>\n",
       "    </tr>\n",
       "    <tr>\n",
       "      <th>L</th>\n",
       "      <td>9621</td>\n",
       "      <td>9621</td>\n",
       "      <td>9621</td>\n",
       "      <td>9621</td>\n",
       "      <td>9621</td>\n",
       "      <td>9621</td>\n",
       "      <td>9621</td>\n",
       "      <td>9621</td>\n",
       "      <td>9621</td>\n",
       "      <td>9621</td>\n",
       "      <td>9621</td>\n",
       "    </tr>\n",
       "  </tbody>\n",
       "</table>\n",
       "</div>"
      ],
      "text/plain": [
       "       carat    cut  clarity  table  depth   cert  measurements  price      x  \\\n",
       "color                                                                           \n",
       "D      73201  73201    73201  73201  73201  73201         73201  73201  73201   \n",
       "E      92859  92859    92859  92859  92859  92859         92859  92859  92859   \n",
       "F      92772  92772    92772  92772  92772  92772         92772  92772  92772   \n",
       "G      95363  95363    95363  95363  95363  95363         95363  95363  95363   \n",
       "H      85951  85951    85951  85951  85951  85951         85951  85951  85951   \n",
       "I      69879  69879    69879  69879  69879  69879         69879  69879  69879   \n",
       "J      48478  48478    48478  48478  48478  48478         48478  48478  48478   \n",
       "K      25660  25660    25660  25660  25660  25660         25660  25660  25660   \n",
       "L       9621   9621     9621   9621   9621   9621          9621   9621   9621   \n",
       "\n",
       "           y      z  \n",
       "color                \n",
       "D      73201  73201  \n",
       "E      92859  92859  \n",
       "F      92772  92772  \n",
       "G      95363  95363  \n",
       "H      85951  85951  \n",
       "I      69879  69879  \n",
       "J      48478  48478  \n",
       "K      25660  25660  \n",
       "L       9621   9621  "
      ]
     },
     "execution_count": 17,
     "metadata": {},
     "output_type": "execute_result"
    }
   ],
   "source": [
    "df.groupby('color').count()"
   ]
  },
  {
   "cell_type": "code",
   "execution_count": 19,
   "metadata": {
    "collapsed": false
   },
   "outputs": [
    {
     "data": {
      "text/plain": [
       "<matplotlib.axes._subplots.AxesSubplot at 0x7fea995bcdd0>"
      ]
     },
     "execution_count": 19,
     "metadata": {},
     "output_type": "execute_result"
    },
    {
     "data": {
      "image/png": "[encoded data removed]",
      "text/plain": [
       "<matplotlib.figure.Figure at 0x7fea99557d50>"
      ]
     },
     "metadata": {},
     "output_type": "display_data"
    }
   ],
   "source": [
    "df.groupby('color')['carat'].count().plot(kind='bar')"
   ]
  },
  {
   "cell_type": "code",
   "execution_count": 20,
   "metadata": {
    "collapsed": false
   },
   "outputs": [
    {
     "data": {
      "text/plain": [
       "<matplotlib.axes._subplots.AxesSubplot at 0x7fea9947f790>"
      ]
     },
     "execution_count": 20,
     "metadata": {},
     "output_type": "execute_result"
    },
    {
     "data": {
      "image/png": "[encoded data removed]",
      "text/plain": [
       "<matplotlib.figure.Figure at 0x7feabd88c1d0>"
      ]
     },
     "metadata": {},
     "output_type": "display_data"
    }
   ],
   "source": [
    "df.groupby('cut')['carat'].count().plot(kind='bar', color='red')"
   ]
  },
  {
   "cell_type": "code",
   "execution_count": 21,
   "metadata": {
    "collapsed": false
   },
   "outputs": [
    {
     "data": {
      "text/html": [
       "<div>\n",
       "<table border=\"1\" class=\"dataframe\">\n",
       "  <thead>\n",
       "    <tr style=\"text-align: right;\">\n",
       "      <th></th>\n",
       "      <th>carat</th>\n",
       "      <th>table</th>\n",
       "      <th>depth</th>\n",
       "      <th>price</th>\n",
       "      <th>x</th>\n",
       "      <th>y</th>\n",
       "      <th>z</th>\n",
       "    </tr>\n",
       "  </thead>\n",
       "  <tbody>\n",
       "    <tr>\n",
       "      <th>carat</th>\n",
       "      <td>1.000000</td>\n",
       "      <td>0.037631</td>\n",
       "      <td>0.008883</td>\n",
       "      <td>0.856340</td>\n",
       "      <td>0.859864</td>\n",
       "      <td>0.960857</td>\n",
       "      <td>0.791658</td>\n",
       "    </tr>\n",
       "    <tr>\n",
       "      <th>table</th>\n",
       "      <td>0.037631</td>\n",
       "      <td>1.000000</td>\n",
       "      <td>0.423914</td>\n",
       "      <td>0.023266</td>\n",
       "      <td>0.028462</td>\n",
       "      <td>0.045617</td>\n",
       "      <td>0.031170</td>\n",
       "    </tr>\n",
       "    <tr>\n",
       "      <th>depth</th>\n",
       "      <td>0.008883</td>\n",
       "      <td>0.423914</td>\n",
       "      <td>1.000000</td>\n",
       "      <td>-0.002129</td>\n",
       "      <td>-0.003632</td>\n",
       "      <td>0.007346</td>\n",
       "      <td>0.031961</td>\n",
       "    </tr>\n",
       "    <tr>\n",
       "      <th>price</th>\n",
       "      <td>0.856340</td>\n",
       "      <td>0.023266</td>\n",
       "      <td>-0.002129</td>\n",
       "      <td>1.000000</td>\n",
       "      <td>0.719537</td>\n",
       "      <td>0.796746</td>\n",
       "      <td>0.645191</td>\n",
       "    </tr>\n",
       "    <tr>\n",
       "      <th>x</th>\n",
       "      <td>0.859864</td>\n",
       "      <td>0.028462</td>\n",
       "      <td>-0.003632</td>\n",
       "      <td>0.719537</td>\n",
       "      <td>1.000000</td>\n",
       "      <td>0.893783</td>\n",
       "      <td>0.482109</td>\n",
       "    </tr>\n",
       "    <tr>\n",
       "      <th>y</th>\n",
       "      <td>0.960857</td>\n",
       "      <td>0.045617</td>\n",
       "      <td>0.007346</td>\n",
       "      <td>0.796746</td>\n",
       "      <td>0.893783</td>\n",
       "      <td>1.000000</td>\n",
       "      <td>0.819880</td>\n",
       "    </tr>\n",
       "    <tr>\n",
       "      <th>z</th>\n",
       "      <td>0.791658</td>\n",
       "      <td>0.031170</td>\n",
       "      <td>0.031961</td>\n",
       "      <td>0.645191</td>\n",
       "      <td>0.482109</td>\n",
       "      <td>0.819880</td>\n",
       "      <td>1.000000</td>\n",
       "    </tr>\n",
       "  </tbody>\n",
       "</table>\n",
       "</div>"
      ],
      "text/plain": [
       "          carat     table     depth     price         x         y         z\n",
       "carat  1.000000  0.037631  0.008883  0.856340  0.859864  0.960857  0.791658\n",
       "table  0.037631  1.000000  0.423914  0.023266  0.028462  0.045617  0.031170\n",
       "depth  0.008883  0.423914  1.000000 -0.002129 -0.003632  0.007346  0.031961\n",
       "price  0.856340  0.023266 -0.002129  1.000000  0.719537  0.796746  0.645191\n",
       "x      0.859864  0.028462 -0.003632  0.719537  1.000000  0.893783  0.482109\n",
       "y      0.960857  0.045617  0.007346  0.796746  0.893783  1.000000  0.819880\n",
       "z      0.791658  0.031170  0.031961  0.645191  0.482109  0.819880  1.000000"
      ]
     },
     "execution_count": 21,
     "metadata": {},
     "output_type": "execute_result"
    }
   ],
   "source": [
    "df.corr()"
   ]
  },
  {
   "cell_type": "code",
   "execution_count": 22,
   "metadata": {
    "collapsed": false
   },
   "outputs": [
    {
     "data": {
      "text/html": [
       "<div>\n",
       "<table border=\"1\" class=\"dataframe\">\n",
       "  <thead>\n",
       "    <tr style=\"text-align: right;\">\n",
       "      <th></th>\n",
       "      <th>carat</th>\n",
       "      <th>table</th>\n",
       "      <th>depth</th>\n",
       "      <th>price</th>\n",
       "      <th>x</th>\n",
       "      <th>y</th>\n",
       "      <th>z</th>\n",
       "    </tr>\n",
       "  </thead>\n",
       "  <tbody>\n",
       "    <tr>\n",
       "      <th>carat</th>\n",
       "      <td>True</td>\n",
       "      <td>False</td>\n",
       "      <td>False</td>\n",
       "      <td>True</td>\n",
       "      <td>True</td>\n",
       "      <td>True</td>\n",
       "      <td>True</td>\n",
       "    </tr>\n",
       "    <tr>\n",
       "      <th>table</th>\n",
       "      <td>False</td>\n",
       "      <td>True</td>\n",
       "      <td>False</td>\n",
       "      <td>False</td>\n",
       "      <td>False</td>\n",
       "      <td>False</td>\n",
       "      <td>False</td>\n",
       "    </tr>\n",
       "    <tr>\n",
       "      <th>depth</th>\n",
       "      <td>False</td>\n",
       "      <td>False</td>\n",
       "      <td>True</td>\n",
       "      <td>False</td>\n",
       "      <td>False</td>\n",
       "      <td>False</td>\n",
       "      <td>False</td>\n",
       "    </tr>\n",
       "    <tr>\n",
       "      <th>price</th>\n",
       "      <td>True</td>\n",
       "      <td>False</td>\n",
       "      <td>False</td>\n",
       "      <td>True</td>\n",
       "      <td>True</td>\n",
       "      <td>True</td>\n",
       "      <td>False</td>\n",
       "    </tr>\n",
       "    <tr>\n",
       "      <th>x</th>\n",
       "      <td>True</td>\n",
       "      <td>False</td>\n",
       "      <td>False</td>\n",
       "      <td>True</td>\n",
       "      <td>True</td>\n",
       "      <td>True</td>\n",
       "      <td>False</td>\n",
       "    </tr>\n",
       "    <tr>\n",
       "      <th>y</th>\n",
       "      <td>True</td>\n",
       "      <td>False</td>\n",
       "      <td>False</td>\n",
       "      <td>True</td>\n",
       "      <td>True</td>\n",
       "      <td>True</td>\n",
       "      <td>True</td>\n",
       "    </tr>\n",
       "    <tr>\n",
       "      <th>z</th>\n",
       "      <td>True</td>\n",
       "      <td>False</td>\n",
       "      <td>False</td>\n",
       "      <td>False</td>\n",
       "      <td>False</td>\n",
       "      <td>True</td>\n",
       "      <td>True</td>\n",
       "    </tr>\n",
       "  </tbody>\n",
       "</table>\n",
       "</div>"
      ],
      "text/plain": [
       "       carat  table  depth  price      x      y      z\n",
       "carat   True  False  False   True   True   True   True\n",
       "table  False   True  False  False  False  False  False\n",
       "depth  False  False   True  False  False  False  False\n",
       "price   True  False  False   True   True   True  False\n",
       "x       True  False  False   True   True   True  False\n",
       "y       True  False  False   True   True   True   True\n",
       "z       True  False  False  False  False   True   True"
      ]
     },
     "execution_count": 22,
     "metadata": {},
     "output_type": "execute_result"
    }
   ],
   "source": [
    "df.corr()>0.7"
   ]
  },
  {
   "cell_type": "code",
   "execution_count": 23,
   "metadata": {
    "collapsed": true
   },
   "outputs": [],
   "source": [
    "df_subset = df.loc[:, ['carat', 'x', 'y', 'price']] #subset-slice-by-label index"
   ]
  },
  {
   "cell_type": "code",
   "execution_count": 24,
   "metadata": {
    "collapsed": true
   },
   "outputs": [],
   "source": [
    "df_subset = df[['carat', 'x', 'y', 'price']] #subset-slice-by-column name"
   ]
  },
  {
   "cell_type": "code",
   "execution_count": 25,
   "metadata": {
    "collapsed": true
   },
   "outputs": [],
   "source": [
    "df_subset = df.iloc[:, [0, 8, 9, 10]] #subset-slice-by-numeric index"
   ]
  },
  {
   "cell_type": "code",
   "execution_count": 26,
   "metadata": {
    "collapsed": false
   },
   "outputs": [
    {
     "data": {
      "text/plain": [
       "<matplotlib.axes._subplots.AxesSubplot at 0x7fea99335d10>"
      ]
     },
     "execution_count": 26,
     "metadata": {},
     "output_type": "execute_result"
    },
    {
     "data": {
      "image/png": "[encoded data removed]",
      "text/plain": [
       "<matplotlib.figure.Figure at 0x7fea98e4d7d0>"
      ]
     },
     "metadata": {},
     "output_type": "display_data"
    }
   ],
   "source": [
    "df_subset.plot.scatter(x='carat', y='price')"
   ]
  },
  {
   "cell_type": "code",
   "execution_count": 27,
   "metadata": {
    "collapsed": false
   },
   "outputs": [
    {
     "data": {
      "text/plain": [
       "<matplotlib.axes._subplots.AxesSubplot at 0x7fea98ddbdd0>"
      ]
     },
     "execution_count": 27,
     "metadata": {},
     "output_type": "execute_result"
    },
    {
     "data": {
      "image/png": "[encoded data removed]",
      "text/plain": [
       "<matplotlib.figure.Figure at 0x7fea8e3a9890>"
      ]
     },
     "metadata": {},
     "output_type": "display_data"
    }
   ],
   "source": [
    "df.plot.scatter(x='carat', y='price', alpha=0.1, xlim=(4,6))"
   ]
  },
  {
   "cell_type": "code",
   "execution_count": 28,
   "metadata": {
    "collapsed": false
   },
   "outputs": [
    {
     "data": {
      "text/plain": [
       "<matplotlib.axes._subplots.AxesSubplot at 0x7fea98d9f990>"
      ]
     },
     "execution_count": 28,
     "metadata": {},
     "output_type": "execute_result"
    },
    {
     "data": {
      "image/png": "[encoded data removed]",
      "text/plain": [
       "<matplotlib.figure.Figure at 0x7fea98d8db90>"
      ]
     },
     "metadata": {},
     "output_type": "display_data"
    }
   ],
   "source": [
    "df.plot.scatter(x='carat', y='price', alpha=0.1, xlim=(5,5.2))"
   ]
  },
  {
   "cell_type": "code",
   "execution_count": null,
   "metadata": {
    "collapsed": true
   },
   "outputs": [],
   "source": []
  }
 ],
 "metadata": {
  "kernelspec": {
   "display_name": "Python 2",
   "language": "python",
   "name": "python2"
  },
  "language_info": {
   "codemirror_mode": {
    "name": "ipython",
    "version": 2
   },
   "file_extension": ".py",
   "mimetype": "text/x-python",
   "name": "python",
   "nbconvert_exporter": "python",
   "pygments_lexer": "ipython2",
   "version": "2.7.13"
  }
 },
 "nbformat": 4,
 "nbformat_minor": 0
}
